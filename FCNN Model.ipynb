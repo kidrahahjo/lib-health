{
  "nbformat": 4,
  "nbformat_minor": 0,
  "metadata": {
    "colab": {
      "name": "FCNN Model.ipynb",
      "provenance": [],
      "collapsed_sections": []
    },
    "kernelspec": {
      "name": "python3",
      "display_name": "Python 3"
    },
    "language_info": {
      "name": "python"
    }
  },
  "cells": [
    {
      "cell_type": "code",
      "execution_count": 1,
      "metadata": {
        "id": "CmoC-1oEQXbf",
        "colab": {
          "base_uri": "https://localhost:8080/"
        },
        "outputId": "02f246b2-fbee-4613-b4d1-2ed31bc6a62a"
      },
      "outputs": [
        {
          "output_type": "stream",
          "name": "stdout",
          "text": [
            "Mounted at /content/drive\n"
          ]
        }
      ],
      "source": [
        "from google.colab import drive\n",
        "drive.mount('/content/drive')"
      ]
    },
    {
      "cell_type": "code",
      "source": [
        "import pickle\n",
        "\n",
        "name1 = \"/content/drive/MyDrive/BTP/Datasets/Severson/batch1.pkl\"\n",
        "name2 = \"/content/drive/MyDrive/BTP/Datasets/Severson/batch2.pkl\"\n",
        "name3 = \"/content/drive/MyDrive/BTP/Datasets/Severson/batch3.pkl\"\n",
        "with open(name1, \"rb\") as f:\n",
        "  try:\n",
        "    data1 = pickle.load(f)\n",
        "  except Exception:\n",
        "    raise Exception(\"Unable to load the dataset, please check for necessary permissions.\")\n",
        "\n",
        "with open(name2, \"rb\") as f:\n",
        "  try:\n",
        "    data2 = pickle.load(f)\n",
        "  except Exception:\n",
        "    raise Exception(\"Unable to load the dataset, please check for necessary permissions.\")\n",
        "\n",
        "with open(name3, \"rb\") as f:\n",
        "  try:\n",
        "    data3 = pickle.load(f)\n",
        "  except Exception:\n",
        "    raise Exception(\"Unable to load the dataset, please check for necessary permissions.\")"
      ],
      "metadata": {
        "id": "1a3Rxv0wyCT_"
      },
      "execution_count": 2,
      "outputs": []
    },
    {
      "cell_type": "code",
      "source": [
        ""
      ],
      "metadata": {
        "id": "MuNzSC_TCX4x"
      },
      "execution_count": 3,
      "outputs": []
    },
    {
      "cell_type": "code",
      "source": [
        "import numpy as np"
      ],
      "metadata": {
        "id": "xKmoudjOyK4N"
      },
      "execution_count": 4,
      "outputs": []
    },
    {
      "cell_type": "code",
      "source": [
        "total_cells1 = range(len(data1))\n",
        "total_cells2 = range(len(data2))\n",
        "total_cells3 = range(len(data3))"
      ],
      "metadata": {
        "id": "E5rAN7rWyfD3"
      },
      "execution_count": 5,
      "outputs": []
    },
    {
      "cell_type": "code",
      "source": [
        "X = []\n",
        "Y = []"
      ],
      "metadata": {
        "id": "NS2DEjknyjm8"
      },
      "execution_count": 6,
      "outputs": []
    },
    {
      "cell_type": "code",
      "source": [
        "for cn in total_cells1:\n",
        "  x_cell = []\n",
        "  y = data1[f'b1c{cn}']['cycle_life']\n",
        "  summary = data1[f'b1c{cn}']['summary']\n",
        "  IR_avg = np.mean(summary['IR'][1:6])\n",
        "  IR_var = np.var(summary['IR'][1:6])\n",
        "  IR_med = np.median(summary['IR'][1:6])\n",
        "  QCharge = summary['QCharge'][1:6]\n",
        "  slope_Qc = []\n",
        "  for i in range(4):\n",
        "    slope_Qc.append(QCharge[i + 1] - QCharge[i])\n",
        "  QDischarge = summary['QDischarge'][1:6]\n",
        "  slope_Qd = []\n",
        "  for i in range(4):\n",
        "    slope_Qd.append(QDischarge[i + 1] - QDischarge[i])\n",
        "  QCharge_avg = np.mean(summary['QCharge'][1:6])\n",
        "  QCharge_var = np.var(summary['QCharge'][1:6])\n",
        "  QCharge_med = np.median(summary['QCharge'][1:6])\n",
        "  QDischarge_avg = np.mean(summary['QDischarge'][1:6])\n",
        "  QDischarge_var = np.var(summary['QDischarge'][1:6])\n",
        "  QDischarge_med = np.median(summary['QDischarge'][1:6])\n",
        "  T_avg = np.mean(summary['Tavg'][1:6])\n",
        "  Tmax_avg = np.mean(summary['Tmax'][1:6])\n",
        "  Tmin_avg = np.mean(summary['Tmin'][1:6])\n",
        "  x_cell = [\n",
        "    IR_avg, IR_var, IR_med, np.mean(slope_Qc), np.mean(slope_Qd),\n",
        "    QCharge_avg, QCharge_var, QCharge_med,\n",
        "    QDischarge_avg, QDischarge_var, QDischarge_med,\n",
        "    T_avg, Tmax_avg, Tmin_avg\n",
        "  ]\n",
        "  X.append(np.array(x_cell))\n",
        "  Y.append(y)"
      ],
      "metadata": {
        "id": "1DdrhtjMy0n7"
      },
      "execution_count": 7,
      "outputs": []
    },
    {
      "cell_type": "code",
      "source": [
        "for cn in total_cells2:\n",
        "  x_cell = []\n",
        "  y = data2[f'b2c{cn}']['cycle_life']\n",
        "  summary = data2[f'b2c{cn}']['summary']\n",
        "  IR_avg = np.mean(summary['IR'][1:6])\n",
        "  IR_var = np.var(summary['IR'][1:6])\n",
        "  IR_med = np.median(summary['IR'][1:6])\n",
        "  QCharge = summary['QCharge'][1:6]\n",
        "  slope_Qc = []\n",
        "  for i in range(4):\n",
        "    slope_Qc.append(QCharge[i + 1] - QCharge[i])\n",
        "  QDischarge = summary['QDischarge'][1:6]\n",
        "  slope_Qd = []\n",
        "  for i in range(4):\n",
        "    slope_Qd.append(QDischarge[i + 1] - QDischarge[i])\n",
        "  QCharge_avg = np.mean(summary['QCharge'][1:6])\n",
        "  QCharge_var = np.var(summary['QCharge'][1:6])\n",
        "  QCharge_med = np.median(summary['QCharge'][1:6])\n",
        "  QDischarge_avg = np.mean(summary['QDischarge'][1:6])\n",
        "  QDischarge_var = np.var(summary['QDischarge'][1:6])\n",
        "  QDischarge_med = np.median(summary['QDischarge'][1:6])\n",
        "  T_avg = np.mean(summary['Tavg'][1:6])\n",
        "  Tmax_avg = np.mean(summary['Tmax'][1:6])\n",
        "  Tmin_avg = np.mean(summary['Tmin'][1:6])\n",
        "  x_cell = [\n",
        "    IR_avg, IR_var, IR_med, np.mean(slope_Qc), np.mean(slope_Qd),\n",
        "    QCharge_avg, QCharge_var, QCharge_med,\n",
        "    QDischarge_avg, QDischarge_var, QDischarge_med,\n",
        "    T_avg, Tmax_avg, Tmin_avg\n",
        "  ]\n",
        "  X.append(np.array(x_cell))\n",
        "  Y.append(y)"
      ],
      "metadata": {
        "id": "dRyrjRd5zwL-"
      },
      "execution_count": 8,
      "outputs": []
    },
    {
      "cell_type": "code",
      "source": [
        "for cn in total_cells3:\n",
        "  x_cell = []\n",
        "  y = data3[f'b3c{cn}']['cycle_life']\n",
        "  summary = data3[f'b3c{cn}']['summary']\n",
        "  IR_avg = np.mean(summary['IR'][1:6])\n",
        "  IR_var = np.var(summary['IR'][1:6])\n",
        "  IR_med = np.median(summary['IR'][1:6])\n",
        "  QCharge = summary['QCharge'][1:6]\n",
        "  slope_Qc = []\n",
        "  for i in range(4):\n",
        "    slope_Qc.append(QCharge[i + 1] - QCharge[i])\n",
        "  QDischarge = summary['QDischarge'][1:6]\n",
        "  slope_Qd = []\n",
        "  for i in range(4):\n",
        "    slope_Qd.append(QDischarge[i + 1] - QDischarge[i])\n",
        "  QCharge_avg = np.mean(summary['QCharge'][1:6])\n",
        "  QCharge_var = np.var(summary['QCharge'][1:6])\n",
        "  QCharge_med = np.median(summary['QCharge'][1:6])\n",
        "  QDischarge_avg = np.mean(summary['QDischarge'][1:6])\n",
        "  QDischarge_var = np.var(summary['QDischarge'][1:6])\n",
        "  QDischarge_med = np.median(summary['QDischarge'][1:6])\n",
        "  T_avg = np.mean(summary['Tavg'][1:6])\n",
        "  Tmax_avg = np.mean(summary['Tmax'][1:6])\n",
        "  Tmin_avg = np.mean(summary['Tmin'][1:6])\n",
        "  x_cell = [\n",
        "    IR_avg, IR_var, IR_med, np.mean(slope_Qc), np.mean(slope_Qd),\n",
        "    QCharge_avg, QCharge_var, QCharge_med,\n",
        "    QDischarge_avg, QDischarge_var, QDischarge_med,\n",
        "    T_avg, Tmax_avg, Tmin_avg\n",
        "  ]\n",
        "  X.append(np.array(x_cell))\n",
        "  Y.append(y)"
      ],
      "metadata": {
        "id": "lw_KHhWSzxlP"
      },
      "execution_count": 9,
      "outputs": []
    },
    {
      "cell_type": "code",
      "source": [
        "X = np.array(X)\n",
        "Y = np.array(Y)"
      ],
      "metadata": {
        "id": "dCEISxz-4Rh-"
      },
      "execution_count": 10,
      "outputs": []
    },
    {
      "cell_type": "code",
      "source": [
        "X.shape, Y.shape"
      ],
      "metadata": {
        "colab": {
          "base_uri": "https://localhost:8080/"
        },
        "id": "-A7Hv8au4oY2",
        "outputId": "48eee63e-bc5f-4c50-a2b4-b1e87f11392b"
      },
      "execution_count": 11,
      "outputs": [
        {
          "output_type": "execute_result",
          "data": {
            "text/plain": [
              "((140, 14), (140,))"
            ]
          },
          "metadata": {},
          "execution_count": 11
        }
      ]
    },
    {
      "cell_type": "code",
      "source": [
        "from sklearn.model_selection import train_test_split\n",
        "X_train, X_test, y_train, y_test = train_test_split(X, Y, test_size=0.3, random_state=42)\n",
        "X_train.shape, X_test.shape, y_train.shape, y_test.shape"
      ],
      "metadata": {
        "colab": {
          "base_uri": "https://localhost:8080/"
        },
        "id": "0ZG8hdhN4tAN",
        "outputId": "1c7fd2ac-659d-4d6c-c0df-71409fbcafa9"
      },
      "execution_count": 12,
      "outputs": [
        {
          "output_type": "execute_result",
          "data": {
            "text/plain": [
              "((98, 14), (42, 14), (98,), (42,))"
            ]
          },
          "metadata": {},
          "execution_count": 12
        }
      ]
    },
    {
      "cell_type": "code",
      "source": [
        "import tensorflow as tf\n",
        "from tensorflow import keras\n",
        "from keras.models import Sequential\n",
        "from keras.layers import Dense, Dropout\n",
        "from keras.layers import Conv2D, MaxPooling2D"
      ],
      "metadata": {
        "id": "EJTyRtzZ4tqN"
      },
      "execution_count": 13,
      "outputs": []
    },
    {
      "cell_type": "code",
      "source": [
        "model = Sequential()\n",
        "model.add(Dense(32, input_dim=14, activation='tanh'))\n",
        "model.add(Dropout(0.5))\n",
        "model.add(Dense(16, activation='tanh'))\n",
        "model.add(Dropout(0.5))\n",
        "model.add(Dense(1, activation=None))\n",
        "opt = keras.optimizers.Adam(learning_rate=0.01, clipnorm=1)\n",
        "model.compile(\n",
        "    loss='mean_absolute_error',\n",
        "    optimizer=opt,\n",
        "    metrics=['accuracy']\n",
        ")\n",
        "model.summary()"
      ],
      "metadata": {
        "colab": {
          "base_uri": "https://localhost:8080/"
        },
        "id": "rqB430-e45gT",
        "outputId": "15e535f9-8b72-469c-d2b8-7da9604c1c89"
      },
      "execution_count": 14,
      "outputs": [
        {
          "output_type": "stream",
          "name": "stdout",
          "text": [
            "Model: \"sequential\"\n",
            "_________________________________________________________________\n",
            " Layer (type)                Output Shape              Param #   \n",
            "=================================================================\n",
            " dense (Dense)               (None, 32)                480       \n",
            "                                                                 \n",
            " dropout (Dropout)           (None, 32)                0         \n",
            "                                                                 \n",
            " dense_1 (Dense)             (None, 16)                528       \n",
            "                                                                 \n",
            " dropout_1 (Dropout)         (None, 16)                0         \n",
            "                                                                 \n",
            " dense_2 (Dense)             (None, 1)                 17        \n",
            "                                                                 \n",
            "=================================================================\n",
            "Total params: 1,025\n",
            "Trainable params: 1,025\n",
            "Non-trainable params: 0\n",
            "_________________________________________________________________\n"
          ]
        }
      ]
    },
    {
      "cell_type": "code",
      "source": [
        "keras.utils.plot_model(model, show_shapes=True)"
      ],
      "metadata": {
        "colab": {
          "base_uri": "https://localhost:8080/",
          "height": 644
        },
        "id": "yz_SDlrf5Urq",
        "outputId": "3d259e57-a9c4-4aca-ff77-93b28d4af51f"
      },
      "execution_count": 15,
      "outputs": [
        {
          "output_type": "execute_result",
          "data": {
            "text/plain": [
              "<IPython.core.display.Image object>"
            ],
            "image/png": "[encoded data removed]"
          },
          "metadata": {},
          "execution_count": 15
        }
      ]
    },
    {
      "cell_type": "code",
      "source": [
        "model.fit(\n",
        "    X_train, y_train,\n",
        "    batch_size=10,\n",
        "    epochs=100,\n",
        "    verbose=None\n",
        ")"
      ],
      "metadata": {
        "id": "hh90dCux5_JJ"
      },
      "execution_count": 16,
      "outputs": []
    },
    {
      "cell_type": "code",
      "source": [
        "preds_test = model.predict(X_test, 1, True)\n",
        "preds_train = model.predict(X_train, 1)\n",
        "\n",
        "idx = np.argwhere(np.isnan(y_train))\n",
        "for i, v in enumerate(idx):\n",
        "  y_train = np.delete(y_train, v[0] - i)"
      ],
      "metadata": {
        "id": "Nu_-7nR16Ouw"
      },
      "execution_count": 17,
      "outputs": []
    },
    {
      "cell_type": "code",
      "source": [
        "from sklearn.metrics import r2_score\n",
        "print('Training Accuracy: ', r2_score(preds_train, y_train))\n",
        "print('Testing Accuracy: ', r2_score(preds_test, y_test))"
      ],
      "metadata": {
        "colab": {
          "base_uri": "https://localhost:8080/"
        },
        "id": "BkYeN78B6kbd",
        "outputId": "7f162278-e524-42e3-f7c0-23ee4228ae4d"
      },
      "execution_count": null,
      "outputs": [
        {
          "output_type": "stream",
          "name": "stdout",
          "text": [
            "Training Accuracy:  0.5570199393203015\n",
            "Testing Accuracy:  0.45032882710306665\n"
          ]
        }
      ]
    },
    {
      "cell_type": "code",
      "source": [
        "total = 0\n",
        "for p, v in zip(preds_train, y_train):\n",
        "  if v * 80 / 100 <= p <= v * 120 / 100:\n",
        "    total += 1\n",
        "trainingaccuracy = round(total / len(y_train), 3)\n",
        "print('Training Accuracy: ', trainingaccuracy)"
      ],
      "metadata": {
        "colab": {
          "base_uri": "https://localhost:8080/"
        },
        "id": "jjBx8HFyrg94",
        "outputId": "7018bd9e-033c-423a-89be-e7b708eee08f"
      },
      "execution_count": 23,
      "outputs": [
        {
          "output_type": "stream",
          "name": "stdout",
          "text": [
            "Training Accuracy:  0.458\n"
          ]
        }
      ]
    },
    {
      "cell_type": "code",
      "source": [
        "total = 0\n",
        "for p, v in zip(preds_test, y_test):\n",
        "  if v * 15 / 100 <= p <= v * 115 / 100:\n",
        "    total += 1\n",
        "testaccuracy = round(total / len(preds_test), 3)\n",
        "print('Testing Accuracy: ', testaccuracy)"
      ],
      "metadata": {
        "id": "61Ks_o18Qsrj",
        "colab": {
          "base_uri": "https://localhost:8080/"
        },
        "outputId": "e439070b-ee73-4365-fc04-bc61e7e21d35"
      },
      "execution_count": 25,
      "outputs": [
        {
          "output_type": "stream",
          "name": "stdout",
          "text": [
            "Testing Accuracy:  0.381\n"
          ]
        }
      ]
    },
    {
      "cell_type": "code",
      "source": [
        "from matplotlib import pyplot as plt\n",
        "xx = np.linspace(150, 2300,100)\n",
        "yy = xx\n",
        "plt.figure()\n",
        "plt.plot(preds_train, y_train, 'ro')\n",
        "plt.plot(preds_test, y_test, 'go')\n",
        "plt.plot(xx, yy, 'b--')\n",
        "plt.xlabel('Predicted Cycle Life')\n",
        "plt.ylabel('Observed Cycle Life')\n",
        "plt.text(1500, 2150, 'Model 1', fontsize=16)\n",
        "plt.legend(['Train Accuracy: 45.8%', 'Test Accuracy: 38.1%'])\n",
        "plt.show()"
      ],
      "metadata": {
        "colab": {
          "base_uri": "https://localhost:8080/",
          "height": 279
        },
        "id": "Ddy45QluQwsc",
        "outputId": "bbd68479-331b-46ff-9407-b3b5f48ed723"
      },
      "execution_count": 26,
      "outputs": [
        {
          "output_type": "display_data",
          "data": {
            "text/plain": [
              "<Figure size 432x288 with 1 Axes>"
            ],
            "image/png": "[encoded data removed]"
          },
          "metadata": {
            "needs_background": "light"
          }
        }
      ]
    },
    {
      "cell_type": "code",
      "source": [
        ""
      ],
      "metadata": {
        "id": "jtP6NGwYrxnr"
      },
      "execution_count": null,
      "outputs": []
    }
  ]
}